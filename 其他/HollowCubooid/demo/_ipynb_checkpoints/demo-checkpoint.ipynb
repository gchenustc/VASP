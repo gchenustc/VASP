{
 "cells": [
  {
   "cell_type": "code",
   "execution_count": 18,
   "id": "da0e1537",
   "metadata": {},
   "outputs": [],
   "source": [
    "import numpy as np\n",
    "import matplotlib.pyplot as plt"
   ]
  },
  {
   "cell_type": "code",
   "execution_count": 22,
   "id": "10400f8a",
   "metadata": {},
   "outputs": [
    {
     "data": {
      "text/plain": [
       "array([[ 6.123234e-17, -1.000000e+00,  0.000000e+00],\n",
       "       [ 1.000000e+00,  6.123234e-17,  0.000000e+00],\n",
       "       [ 0.000000e+00,  0.000000e+00,  1.000000e+00]])"
      ]
     },
     "execution_count": 22,
     "metadata": {},
     "output_type": "execute_result"
    }
   ],
   "source": [
    "def normalize(arr):\n",
    "    \"归一化一维矢量,可以传入list\"\n",
    "    norm = np.linalg.norm(np.array(arr))\n",
    "    return np.array(arr/norm)\n",
    "\n",
    "def getRotationMatrix(b, theta):\n",
    "    \"\"\"\n",
    "    由旋转轴 b 和旋转角度 theta 求旋转矩阵 R\n",
    "    theta 单位: rad\n",
    "    \"\"\"\n",
    "    b_vect = normalize(b)\n",
    "    c = np.cos(theta)\n",
    "    s = np.sin(theta)\n",
    "    a = 1 - np.cos(theta)\n",
    "    x,y,z = b_vect\n",
    "    \n",
    "    Rx = np.array([a * x ** 2 + c, a * y * x -s * z, a * z * x + s * y])\n",
    "    Ry = np.array([a * x * y + s * z, a * y ** 2 + c, a * z * y - s * x])\n",
    "    Rz = np.array([a * x * z - s * y, a * y * z + s * x, a * z ** 2 + c])\n",
    "    \n",
    "    return np.array([Rx, Ry, Rz])\n",
    "\n",
    "getRotationMatrix([0,0,1],np.pi/2)"
   ]
  },
  {
   "cell_type": "code",
   "execution_count": 23,
   "id": "5dae59d1",
   "metadata": {},
   "outputs": [],
   "source": [
    "def isInBox(coord,x,y,z):\n",
    "    \"\"\"coord 是坐标 np.array([a,b,c]),当a在x[0]与x[1]之间，同时b,c在...时返回True\"\"\"\n",
    "    lst = [x,y,z]\n",
    "    for index,i in enumerate(coord):\n",
    "        #print(\"i,index\",i,index)\n",
    "        if not lst[index][0] <= i <= lst[index][1]:\n",
    "            return False\n",
    "    return True\n",
    "        \n",
    "\n",
    "def getCubicIndex(pos_arr, center_point, lattice_constant=np.array([4,4,4])):\n",
    "    \"\"\"\n",
    "    返回晶胞中不在以center_point为中心的长方体中的原子索引: eg: [0,0,1,1,0,0],value = 1 的原子是不在长方体内的原子\n",
    "    pos_arr: type: numpy\n",
    "    \"\"\"\n",
    "    ret = np.ones((pos_arr.shape[0],1))\n",
    "    x_range = center_point[0] - lattice_constant[0]/float(2), center_point[0] + lattice_constant[0]/float(2)\n",
    "    y_range = center_point[1] - lattice_constant[1]/float(2), center_point[1] + lattice_constant[1]/float(2)\n",
    "    z_range = center_point[2] - lattice_constant[2]/float(2), center_point[2] + lattice_constant[2]/float(2)\n",
    "\n",
    "    for index,i in enumerate(pos_arr):\n",
    "        if isInBox(i,x_range,y_range,z_range):\n",
    "            ret[index] = 0\n",
    "    return ret\n",
    "        \n",
    "    "
   ]
  },
  {
   "cell_type": "code",
   "execution_count": 160,
   "id": "a7a122f5",
   "metadata": {},
   "outputs": [],
   "source": [
    "import numpy as np\n",
    "from itertools import permutations # A_{n,n}\n",
    "from itertools import combinations # C_{n,n}\n",
    "from itertools import combinations_with_replacement # 可放回\n",
    "class HollowCubic(object):\n",
    "    \"\"\"\n",
    "    挖出 POSCAR 指定位置的 长方体\n",
    "    使用方法:\n",
    "    1. 指定输入输出文件路径\n",
    "    hc = HollowCubic(input_path = 'POSCAR', out_path='POSCAR_out')\n",
    "    2. 指定需要挖出的长方体中心以及长方体的晶格常数，也可使长方体旋转,rotate_axis类型使角度，rotate_angle是rad角，可以用np.pi/n\n",
    "    hc.operate(center_point=[5,5,5], lattice_constant=[10,10,10], rotate_axis=None, rotate_angle=0)\n",
    "    3. 输出\n",
    "    hc.retPoscar()\n",
    "    \"\"\"\n",
    "    def __init__(self, input_path = 'POSCAR', out_path='POSCAR_out'):\n",
    "        self.input_path = input_path\n",
    "        self.out_path = out_path\n",
    "        \n",
    "        self.pos_arr = np.loadtxt(input_path,dtype=np.float64,skiprows=8)\n",
    "        self.pos_arr_bak = self.pos_arr.copy()\n",
    "        self.const_arr = np.loadtxt(input_path,dtype=np.float64,skiprows=2,max_rows=3)\n",
    "        \n",
    "        # 判断原子坐标类型 - Cartesian or Direct\n",
    "        coord_type = str(np.loadtxt('POSCAR',dtype='object',skiprows=7,max_rows=1)).lower()\n",
    "        # 如果是分数坐标，改成笛卡尔坐标\n",
    "        if coord_type[0] == \"d\":\n",
    "            self.pos_arr = HollowCubic.fra2car(self.pos_arr, self.const_arr)\n",
    "        \n",
    "        # 原子信息-种类&数量\n",
    "        self.atoms_info = np.loadtxt(input_path,dtype='object',skiprows=5,max_rows=2).reshape((2,-1)) # np-[['N','O'],[5,5]]\n",
    "        self.atoms_num = self.pos_arr.shape[0]\n",
    "\n",
    "    @staticmethod\n",
    "    def fra2car(pos_arr, const):\n",
    "        \"\"\"将分数坐标转换为笛卡尔坐标，传入的参数分别为分数坐标和晶格常数\"\"\"\n",
    "        return np.dot(pos_arr,const)\n",
    "    \n",
    "    @staticmethod\n",
    "    def car2fra(pos_arr, const):\n",
    "        return np.dot(pos_arr, np.linalg.inv(const))\n",
    "\n",
    "    @staticmethod\n",
    "    def periodBoundary(pos_arr, const_arr, direction=None):\n",
    "        \"\"\"\n",
    "        返回扩一倍胞后的等价位置\n",
    "        direction 是扩胞后周期性边界条件的方向 eg: [[1,1,0],[1,0,1]...]\n",
    "        假如 pos_arr.shape = (10,3)\n",
    "        则返回数组的shape: ret.shape = (10,27,3), 27代表每个原子等价的27个位置\n",
    "        \"\"\"\n",
    "        ret = pos_arr[:,np.newaxis,:] # 初始 ret.shape = [10,1,3]，方便之后 concatenate\n",
    "\n",
    "        direct = [] # [(1,1,0),(1-1,0)...]，(1,1,0)代表沿着x，y轴正方向扩胞的\n",
    "        for i in combinations_with_replacement([1,-1,0],3):\n",
    "            for j in permutations(i,3):\n",
    "                direct.append(j)\n",
    "        direct = list(set(direct)) # remove repeat elements\n",
    "        direct.remove((0,0,0)) # remove self\n",
    "\n",
    "        for dir_ in direct: # (1,1,0)\n",
    "            dir_arr = np.array(dir_)\n",
    "\n",
    "            const_sign_change = const_arr*(dir_arr.reshape((3,-1)))# 改变const_arr 的符号\n",
    "            dir_arr_abs = np.apply_along_axis(lambda x: abs(x), arr=dir_arr,axis=0) # 将 取dir_内元素的绝对值\n",
    "            const_index = np.argwhere(dir_arr_abs==1).flatten() \n",
    "            vector_arr = const_sign_change[const_index] # shape=n*3，原始胞内的每个原子坐标依次加上vector_arr中的坐标即是等价的坐标\n",
    "\n",
    "            new_cell = pos_arr.copy()\n",
    "            for vector in vector_arr:\n",
    "                new_cell += vector\n",
    "            new_cell = new_cell[:,np.newaxis,:] # 方便concatenate 的操作\n",
    "\n",
    "            ret = np.concatenate((ret,new_cell),1)\n",
    "\n",
    "        return ret\n",
    "\n",
    "    def retPoscar(self):\n",
    "        \"\"\"\n",
    "        输出 vasp - POSCAR 文件\n",
    "        \"\"\"\n",
    "        with open(self.input_path,'r') as f:\n",
    "            head = f.readlines()\n",
    "            head_copy = head[:] # bak\n",
    "\n",
    "            head = head[:8]\n",
    "            sep = ' '*10\n",
    "            head[2] = sep.join(map(str,self.const_arr[0].tolist())) + '\\n'\n",
    "            head[3] = sep.join(map(str,self.const_arr[1].tolist())) + '\\n'\n",
    "            head[4] = sep.join(map(str,self.const_arr[2].tolist())) + '\\n'\n",
    "            head[5] = '    ' + ' '.join(self.atoms_info[0].tolist()) + '\\n'\n",
    "            head[6] = '    ' + ' '.join(list(map(str,self.atoms_info[1].tolist()))) + '\\n'\n",
    "            head[7] = 'Cartesian\\n'\n",
    "            #head.append('Selective dynamics\\n')\n",
    "\n",
    "            # 写入\n",
    "            with open(self.out_path,'w') as fw:\n",
    "                fw.writelines(head)\n",
    "                np.savetxt(fw,self.pos_arr,fmt='%.8f',delimiter=sep)\n",
    "                \n",
    "    @staticmethod\n",
    "    def isInBox(coord,x,y,z):\n",
    "        \"\"\"coord 是坐标 np.array([a,b,c]),当a在x[0]与x[1]之间，同时b在y[0]和y[1]之间，c在...., 时返回True\"\"\"\n",
    "        lst = [x,y,z]\n",
    "        for index,i in enumerate(coord):\n",
    "            if not lst[index][0] <= i <= lst[index][1]:\n",
    "                return False\n",
    "        return True\n",
    "\n",
    "    @staticmethod\n",
    "    def getNotInCubicIndex(pos_arr, center_point, lattice_constant):\n",
    "        \"\"\"\n",
    "        返回晶胞中不在以center_point为中心的长方体中的原子索引: eg: [0,0,1,1,0,0],value = 1 的原子是不在长方体内的原子\n",
    "        \"\"\"\n",
    "        if pos_arr.ndim == 2:\n",
    "            pos_arr = pos_arr[:,np.newaxis,:]\n",
    "    \n",
    "        ret = np.ones(pos_arr.shape[0]) # one-hot 形式\n",
    "        x_range = center_point[0] - lattice_constant[0]/float(2), center_point[0] + lattice_constant[0]/float(2)\n",
    "        y_range = center_point[1] - lattice_constant[1]/float(2), center_point[1] + lattice_constant[1]/float(2)\n",
    "        z_range = center_point[2] - lattice_constant[2]/float(2), center_point[2] + lattice_constant[2]/float(2)\n",
    "\n",
    "        for index,i in enumerate(pos_arr):\n",
    "            for each_coord in i:\n",
    "                if HollowCubic.isInBox(each_coord,x_range,y_range,z_range):\n",
    "                    ret[index] = 0\n",
    "        return ret\n",
    "    \n",
    "    @staticmethod\n",
    "    def normalize(arr):\n",
    "        \"归一化一维矢量,可以传入list\"\n",
    "        norm = np.linalg.norm(np.array(arr))\n",
    "        return np.array(arr/norm)\n",
    "    \n",
    "    @staticmethod\n",
    "    def getRotationMatrix(b, theta):\n",
    "        \"\"\"\n",
    "        由旋转轴 b 和旋转角度 theta 求旋转矩阵 R\n",
    "        theta 单位: rad\n",
    "        \"\"\"\n",
    "        b_vect = HollowCubic.normalize(b)\n",
    "        c = np.cos(theta)\n",
    "        s = np.sin(theta)\n",
    "        a = 1 - np.cos(theta)\n",
    "        x,y,z = b_vect\n",
    "\n",
    "        Rx = np.array([a * x ** 2 + c, a * y * x -s * z, a * z * x + s * y])\n",
    "        Ry = np.array([a * x * y + s * z, a * y ** 2 + c, a * z * y - s * x])\n",
    "        Rz = np.array([a * x * z - s * y, a * y * z + s * x, a * z ** 2 + c])\n",
    "\n",
    "        return np.array([Rx, Ry, Rz])\n",
    "\n",
    "    def operate(self, center_point, lattice_constant, rotate_axis=None, rotate_angle=0):\n",
    "        \"\"\"\n",
    "        lattice_constant: 小立方体的晶格常数\n",
    "        \"\"\"\n",
    "        center_point = np.array(center_point)\n",
    "        pos_arr_expand = HollowCubic.periodBoundary(self.pos_arr, self.const_arr, direction=None).reshape((-1,3))\n",
    "        if rotate_axis:\n",
    "            # 得到大胞的旋转矩阵(因为是相对于小胞旋转，故旋转角度取负)\n",
    "            rotate_matrix = HollowCubic.getRotationMatrix(rotate_axis, -rotate_angle)\n",
    "            # 得到旋转后的大胞\n",
    "            pos_arr_rotate = np.dot(pos_arr_expand,rotate_matrix)\n",
    "            # 调整大胞位置-从自身沿着某轴旋转到沿着小胞中心的某个轴旋转\n",
    "                # 旋转后的小胞中心点\n",
    "            center_point_ = np.dot(center_point, rotate_matrix)\n",
    "            pos_arr_rotate += center_point - center_point_\n",
    "            notinbox_ont_hot = HollowCubic.getNotInCubicIndex(pos_arr_rotate.reshape((-1,27,3)), center_point, lattice_constant)\n",
    "        else:\n",
    "            notinbox_ont_hot = HollowCubic.getNotInCubicIndex(pos_arr_expand.reshape((-1,27,3)), center_point, lattice_constant)\n",
    "        \n",
    "        # 改变 POSCAR 信息\n",
    "        notinbox_index = np.argwhere(notinbox_ont_hot==1).flatten()\n",
    "        self.pos_arr = self.pos_arr[notinbox_index] # 改变坐标\n",
    "        \n",
    "            # 改变 POSCAR 第六行的原子数量信息\n",
    "        n_atoms_cumsum = np.cumsum(self.atoms_info[1].astype('i4'))\n",
    "        n_atoms_per_kind = self.atoms_info[1].astype('i4')\n",
    "        for index,i in enumerate(notinbox_ont_hot):\n",
    "            if i==0:\n",
    "                for index_,n_each_kind in enumerate(n_atoms_cumsum):\n",
    "                    if index_ == 0:\n",
    "                        if index < n_each_kind:\n",
    "                            n_atoms_per_kind[0] -= 1\n",
    "                    else:\n",
    "                        if n_atoms_cumsum[index_-1] <= index < n_each_kind:\n",
    "                            n_atoms_per_kind[index_] -= 1\n",
    "        self.atoms_info[1] = n_atoms_per_kind\n",
    "                        \n",
    "            \n",
    "hc = HollowCubic()\n",
    "hc.operate(center_point=[0,0,0], lattice_constant=[10,10,10], rotate_axis=[0,0,1], rotate_angle=np.pi/4)\n",
    "hc.retPoscar()"
   ]
  },
  {
   "cell_type": "code",
   "execution_count": 83,
   "id": "21ab7573",
   "metadata": {},
   "outputs": [],
   "source": [
    "arr = np.array([['N','O'],['20','30']],dtype='object')\n",
    "b = arr[1].copy()"
   ]
  },
  {
   "cell_type": "code",
   "execution_count": 85,
   "id": "48f2251f",
   "metadata": {},
   "outputs": [
    {
     "data": {
      "text/plain": [
       "array([20, 30], dtype=int16)"
      ]
     },
     "execution_count": 85,
     "metadata": {},
     "output_type": "execute_result"
    }
   ],
   "source": [
    "b.astype('i2')"
   ]
  },
  {
   "cell_type": "code",
   "execution_count": 94,
   "id": "d53eb280",
   "metadata": {},
   "outputs": [
    {
     "data": {
      "text/plain": [
       "array([[1],\n",
       "       [3]], dtype=int64)"
      ]
     },
     "execution_count": 94,
     "metadata": {},
     "output_type": "execute_result"
    }
   ],
   "source": [
    "np.argwhere(np.array([1,0,1,0])==0)"
   ]
  },
  {
   "cell_type": "code",
   "execution_count": 126,
   "id": "5da67938",
   "metadata": {},
   "outputs": [
    {
     "data": {
      "text/plain": [
       "array([ 1,  4, 10], dtype=int32)"
      ]
     },
     "execution_count": 126,
     "metadata": {},
     "output_type": "execute_result"
    }
   ],
   "source": [
    "np.cumsum(np.array([1,3,6]))"
   ]
  },
  {
   "cell_type": "code",
   "execution_count": 146,
   "id": "61ce33b4",
   "metadata": {},
   "outputs": [
    {
     "data": {
      "text/plain": [
       "array([[ 1,  3,  5],\n",
       "       [ 4,  6,  8],\n",
       "       [ 7,  9, 11]])"
      ]
     },
     "execution_count": 146,
     "metadata": {},
     "output_type": "execute_result"
    }
   ],
   "source": [
    "np.arange(9).reshape((3,3)) + np.array([1,2,3])"
   ]
  },
  {
   "cell_type": "code",
   "execution_count": null,
   "id": "b236ed66",
   "metadata": {},
   "outputs": [],
   "source": []
  }
 ],
 "metadata": {
  "kernelspec": {
   "display_name": "Python 3",
   "language": "python",
   "name": "python3"
  },
  "language_info": {
   "codemirror_mode": {
    "name": "ipython",
    "version": 3
   },
   "file_extension": ".py",
   "mimetype": "text/x-python",
   "name": "python",
   "nbconvert_exporter": "python",
   "pygments_lexer": "ipython3",
   "version": "3.8.8"
  }
 },
 "nbformat": 4,
 "nbformat_minor": 5
}
