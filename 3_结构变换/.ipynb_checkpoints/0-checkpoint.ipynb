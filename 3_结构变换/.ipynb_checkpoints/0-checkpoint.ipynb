{
 "cells": [
  {
   "cell_type": "code",
   "execution_count": 48,
   "id": "b481927a",
   "metadata": {},
   "outputs": [],
   "source": [
    "import argparse\n",
    "import spglib\n",
    "import ase\n",
    "from ase.io import read, write\n",
    "from ase import Atoms\n",
    "from ase.visualize import view\n",
    "import numpy as np\n",
    "import os\n",
    "import sys\n",
    "import datetime\n",
    "import time\n",
    "import numpy as np\n",
    "from math import sqrt,pow\n",
    "import shutil"
   ]
  },
  {
   "cell_type": "code",
   "execution_count": 20,
   "id": "c3984b31",
   "metadata": {},
   "outputs": [],
   "source": [
    "def is_number(s):\n",
    "    \"\"\"如果字符串s为浮点数或者整数，返回True\"\"\"\n",
    "    if str(s).isnumeric(): # isdigit(), isdecimal()\n",
    "        return True\n",
    "    try:\n",
    "        float(s)\n",
    "        return True\n",
    "    except:\n",
    "        pass\n",
    "    return False"
   ]
  },
  {
   "cell_type": "code",
   "execution_count": 90,
   "id": "1fbdf09e",
   "metadata": {},
   "outputs": [
    {
     "data": {
      "text/plain": [
       "(['0', '0', '2'], ['POSCAR'])"
      ]
     },
     "execution_count": 90,
     "metadata": {},
     "output_type": "execute_result"
    }
   ],
   "source": [
    "# argparser\n",
    "parser = argparse.ArgumentParser(description=\"Move atoms along the specific axis\")\n",
    "parser.add_argument('-c','--POSCAR', default=[\"POSCAR\"], nargs=\"+\", help=\"Specify the POSCAR file\")\n",
    "parser.add_argument('-v','--visualize', action=\"store_true\", default=False, help='Use ASE-GUI to visualize structure (Default=False)')\n",
    "parser.add_argument('-m','--moving', required=True, nargs=3, help=\"Specify the length moved along corresponding basis vetor(x,y,z)\")\n",
    "prm = parser.parse_args(\"-m 0 0 2\".split())\n",
    "prm.moving, prm.POSCAR"
   ]
  },
  {
   "cell_type": "code",
   "execution_count": 91,
   "id": "e1f227db",
   "metadata": {},
   "outputs": [
    {
     "data": {
      "text/plain": [
       "[0.0, 0.0, 2.0]"
      ]
     },
     "execution_count": 91,
     "metadata": {},
     "output_type": "execute_result"
    }
   ],
   "source": [
    "# 检测输入\n",
    "for i in prm.moving:\n",
    "    if not is_number(i):\n",
    "        print(\"arg following -m must be the number\")\n",
    "moving = list(map(lambda x:float(x), prm.moving))\n",
    "moving"
   ]
  },
  {
   "cell_type": "code",
   "execution_count": 92,
   "id": "2afc1221",
   "metadata": {},
   "outputs": [
    {
     "name": "stdout",
     "output_type": "stream",
     "text": [
      "Starting calculation at23:53:32 on Tue 27 Sep 2022\n"
     ]
    }
   ],
   "source": [
    "# Starting\n",
    "starttime = time.time()\n",
    "print(\"Starting calculation at\", end='')\n",
    "print(time.strftime(\"%H:%M:%S on %a %d %b %Y\"))"
   ]
  },
  {
   "cell_type": "code",
   "execution_count": 93,
   "id": "267759cf",
   "metadata": {},
   "outputs": [
    {
     "data": {
      "text/plain": [
       "[Atoms(symbols='N48He6', pbc=True, cell=[3.8025000095, 5.377600193, 35.7057991028], constraint=FixAtoms(indices=[0, 1, 6, 7, 12, 13, 18, 19, 24, 25, 30, 31, 36, 37, 42, 43]))]"
      ]
     },
     "execution_count": 93,
     "metadata": {},
     "output_type": "execute_result"
    }
   ],
   "source": [
    "# strip\n",
    "i_poscars = [pos.strip() for pos in prm.POSCAR]\n",
    "i_poscars_r = [ase.io.read(pos) for pos in i_poscars]\n",
    "i_poscars_r"
   ]
  },
  {
   "cell_type": "code",
   "execution_count": 94,
   "id": "6d354dfe",
   "metadata": {},
   "outputs": [],
   "source": [
    "numbers = [pos.get_global_number_of_atoms() for pos in i_poscars_r] \n",
    "positions = [pos.positions for pos in i_poscars_r]\n",
    "lattice = [pos.cell for pos in i_poscars_r]\n",
    "symbols = [pos.get_chemical_symbols() for  pos in i_poscars_r]"
   ]
  },
  {
   "cell_type": "code",
   "execution_count": 95,
   "id": "495e1dbb",
   "metadata": {},
   "outputs": [],
   "source": [
    "if prm.visualize==True:\n",
    "    view(i_poscars_r)"
   ]
  },
  {
   "cell_type": "code",
   "execution_count": 96,
   "id": "21abc827",
   "metadata": {},
   "outputs": [],
   "source": [
    "# moving operate\n",
    "for position in positions:\n",
    "    position += moving"
   ]
  },
  {
   "cell_type": "code",
   "execution_count": null,
   "id": "d5caa278",
   "metadata": {},
   "outputs": [],
   "source": [
    "# final poscar class"
   ]
  },
  {
   "cell_type": "code",
   "execution_count": null,
   "id": "70afb5eb",
   "metadata": {},
   "outputs": [],
   "source": [
    "# write\n"
   ]
  },
  {
   "cell_type": "code",
   "execution_count": null,
   "id": "a59d02fd",
   "metadata": {},
   "outputs": [],
   "source": [
    "endtime = time.time()\n",
    "runtime = endtime-starttime\n",
    "print(\"\\nEnd of calculation.\")\n",
    "print(\"Program was running for %.2f seconds.\" % runtime)"
   ]
  }
 ],
 "metadata": {
  "kernelspec": {
   "display_name": "Python 3",
   "language": "python",
   "name": "python3"
  },
  "language_info": {
   "codemirror_mode": {
    "name": "ipython",
    "version": 3
   },
   "file_extension": ".py",
   "mimetype": "text/x-python",
   "name": "python",
   "nbconvert_exporter": "python",
   "pygments_lexer": "ipython3",
   "version": "3.8.8"
  }
 },
 "nbformat": 4,
 "nbformat_minor": 5
}
